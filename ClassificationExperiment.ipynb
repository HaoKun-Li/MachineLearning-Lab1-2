{
 "cells": [
  {
   "cell_type": "markdown",
   "metadata": {},
   "source": [
    "## 1. Load the experiment data  using load_svmlight_file function in sklearn library."
   ]
  },
  {
   "cell_type": "code",
   "execution_count": 1,
   "metadata": {},
   "outputs": [
    {
     "name": "stderr",
     "output_type": "stream",
     "text": [
      "WARNING:root:[MemorizedFunc(func=<function get_data at 0x00000273321E3F28>, cachedir='./mycache\\\\joblib')]: Clearing cache ./mycache\\joblib\\__main__-C%3A-Users-Administrator-__ipython-input__\\get_data\n"
     ]
    },
    {
     "name": "stdout",
     "output_type": "stream",
     "text": [
      "________________________________________________________________________________\n",
      "[Memory] Calling __main__-C%3A-Users-Administrator-__ipython-input__.get_data...\n",
      "get_data()\n",
      "_________________________________________________________get_data - 0.0s, 0.0min\n"
     ]
    }
   ],
   "source": [
    "%matplotlib inline \n",
    "from sklearn.externals.joblib import Memory  \n",
    "from sklearn.datasets import load_svmlight_file \n",
    "import numpy as np\n",
    "mem = Memory(\"./mycache\")\n",
    "@mem.cache\n",
    "\n",
    "def get_data():\n",
    "    data = load_svmlight_file(\"C:\\\\Users\\\\Administrator\\\\Desktop\\\\机器学习\\\\lab1\\\\australian_scale.txt\")\n",
    "    return data[0],data[1]\n",
    "\n",
    "data_x,data_y = get_data() #Step1:Load the experiment data"
   ]
  },
  {
   "cell_type": "markdown",
   "metadata": {
    "collapsed": true
   },
   "source": [
    "## 2.Divide dataset into training set and validation set using train_test_split function."
   ]
  },
  {
   "cell_type": "code",
   "execution_count": 2,
   "metadata": {
    "collapsed": true
   },
   "outputs": [],
   "source": [
    "from sklearn.model_selection import train_test_split\n",
    "\n",
    "x_train,x_valid,y_train,y_valid = train_test_split(data_x,data_y,test_size=0.33,random_state=42) \n",
    "#Step2:divide dataset into training set and validation set \n",
    "\n",
    "y_train = np.mat(y_train).T #shape y_train to m_train*1\n",
    "y_valid = np.mat(y_valid).T #shape y_valid to m_valid*1"
   ]
  },
  {
   "cell_type": "markdown",
   "metadata": {},
   "source": [
    "## 3.Initialize SVM model parameters randomly."
   ]
  },
  {
   "cell_type": "code",
   "execution_count": 3,
   "metadata": {
    "collapsed": true
   },
   "outputs": [],
   "source": [
    "w = np.mat(np.random.random([x_train.shape[1],1]))*2-1\n",
    "b = np.random.random()*2-1\n",
    "#Step3:Initialize linear model parameters randomly range(-1,1)"
   ]
  },
  {
   "cell_type": "markdown",
   "metadata": {},
   "source": [
    "## 4.Choose loss function and derivation."
   ]
  },
  {
   "cell_type": "code",
   "execution_count": 4,
   "metadata": {
    "collapsed": true
   },
   "outputs": [],
   "source": [
    "#Step4:Choose loss function and derivation."
   ]
  },
  {
   "cell_type": "markdown",
   "metadata": {},
   "source": [
    "$$ min_{w,b}\\quad f(w,b):\\frac{||w||^2}{2}+C\\sum_{i=1}^N max(0,1-y_i (w^T x_i +b))  $$"
   ]
  },
  {
   "cell_type": "markdown",
   "metadata": {},
   "source": [
    "\\begin{align}\n",
    "\\frac{\\partial f（w,b）}{\\partial w}&=w-CX^Ty \\qquad 1-y_i(w^Tx_i+b)>=0 \\\\\n",
    "&=w \\quad \\qquad \\qquad 1-y_i(w^Tx_i+b)<0 \n",
    "\\end{align}"
   ]
  },
  {
   "cell_type": "markdown",
   "metadata": {},
   "source": [
    "\\begin{align}\n",
    "\\frac{\\partial f（w,b）}{\\partial b}&=-C\\sum_{i=1}^Ny_i \\qquad 1-y_i(w^Tx_i+b)>=0 \\\\\n",
    "&=0 \\quad \\qquad \\qquad 1-y_i(w^Tx_i+b)<0 \n",
    "\\end{align}"
   ]
  },
  {
   "cell_type": "markdown",
   "metadata": {},
   "source": [
    "## 5.Linear Classification and Gradient Descent"
   ]
  },
  {
   "cell_type": "code",
   "execution_count": 5,
   "metadata": {},
   "outputs": [
    {
     "name": "stdout",
     "output_type": "stream",
     "text": [
      "0.8464912280701754\n"
     ]
    },
    {
     "data": {
      "image/png": "[encoded data removed]",
      "text/plain": [
       "<matplotlib.figure.Figure at 0x2733108e438>"
      ]
     },
     "metadata": {},
     "output_type": "display_data"
    }
   ],
   "source": [
    "import matplotlib.pyplot as plt\n",
    "\n",
    "m_train = x_train.shape[0] #number of training example\n",
    "m_valid = x_valid.shape[0] #number of validation example\n",
    "\n",
    "Loss_train = [] #Loss_train-axis\n",
    "Loss_valid = [] #Loss_valid-axis\n",
    "valid_right_rate = [] #valid_right_rate-axis\n",
    "x = [] #x-axis:the number of iterations\n",
    "for n in range(0,100):#Step9:Repeat step5 to step8 for 100 times.\n",
    "    G_w = np.zeros([x_train.shape[1],1]) #Initialize G_w\n",
    "    G_b = 0 #Initialize G_b\n",
    "    C =1000000\n",
    "    x.append(n+1) #Update x-axis\n",
    "\n",
    "    for n in range(0,m_train):\n",
    "        result = 1 - y_train[n]*(w.T*x_train[n].T+b)\n",
    "        if(result>=0):\n",
    "            G_w = G_w + (w-C*x_train[n].T*y_train[n])\n",
    "            G_b = G_b + (-C*y_train[n])\n",
    "        elif(result<0):\n",
    "            G_w = G_w + w\n",
    "            G_b = G_b\n",
    "    #Step5:Calculate gradient G toward loss function from all samples.\n",
    "            \n",
    "    D_w = -G_w\n",
    "    D_b = -G_b\n",
    "    #Step6:Denote the opposite direction of gradient G as D.\n",
    "\n",
    "    learn_rate = 0.000000001 #Learning rate\n",
    "\n",
    "    w = w + learn_rate*D_w\n",
    "    b = b + learn_rate*D_b\n",
    "    #Step7:Update model parameters.\n",
    "\n",
    "    threshold = 0 #Threshold\n",
    "\n",
    "    y_fore = [] \n",
    "    for n in range(0,m_valid):\n",
    "        result = x_valid[n]*w+b\n",
    "        if(result>=threshold):\n",
    "            y_fore.append(1)\n",
    "\n",
    "        elif(result<threshold):\n",
    "            y_fore.append(-1)\n",
    "    #Calculate the forecast y\n",
    "    \n",
    "    r = 0 \n",
    "    for n in range(0,m_valid):\n",
    "        if(y_fore[n]==y_valid[n]):\n",
    "            r = r+1\n",
    "        else:\n",
    "            r = r\n",
    "    valid_right_rate.append(r/m_valid)\n",
    "    #Calculate the right rate of fore_y\n",
    "    \n",
    "    Loss_train_sum = 0\n",
    "    for n in range(0,m_train):\n",
    "        result = 1 - y_train[n]*(w.T*x_train[n].T+b)\n",
    "        if(result>=0):\n",
    "            Loss_train_sum = Loss_train_sum + result\n",
    "        elif(result<0):\n",
    "            Loss_train_sum = Loss_train_sum\n",
    "    Loss_train.append((0.5*(w.T*w) + C*Loss_train_sum)[0,0])\n",
    "    \n",
    "    Loss_valid_sum = 0\n",
    "    for n in range(0,m_valid):\n",
    "        result = 1 - y_valid[n]*(w.T*x_valid[n].T+b)\n",
    "        if(result>=0):\n",
    "            Loss_valid_sum = Loss_valid_sum + result\n",
    "        elif(result<0):\n",
    "            Loss_valid_sum = Loss_valid_sum\n",
    "    Loss_valid.append((0.5*(w.T*w) + C*Loss_valid_sum)[0,0])\n",
    "    #Step8:Get the Loss under training set and validation set.\n",
    "\n",
    "plt.figure(figsize=(12,12),dpi=80)\n",
    "f2 = plt.subplot(212)\n",
    "f2.set_title(\"Accuracy\")\n",
    "f2.set_xlabel(\"Iteration time\")\n",
    "plt.plot(x,valid_right_rate)\n",
    "#Drawing graph of accuracy with the number of iterations\n",
    "\n",
    "f1 = plt.subplot(211)\n",
    "plt.plot(x, Loss_train, color = 'red')\n",
    "plt.plot(x, Loss_valid, color = 'yellow')\n",
    "f1.set_title(\"Loss_train and Loss_valid\")\n",
    "f1.set_xlabel(\"Iteration time\")\n",
    "#Step10:Drawing graph of Loss_train and Loss_valid with the number of iterations.\n",
    "\n",
    "print(valid_right_rate[99])"
   ]
  },
  {
   "cell_type": "code",
   "execution_count": null,
   "metadata": {
    "collapsed": true
   },
   "outputs": [],
   "source": []
  }
 ],
 "metadata": {
  "kernelspec": {
   "display_name": "Python 3",
   "language": "python",
   "name": "python3"
  },
  "language_info": {
   "codemirror_mode": {
    "name": "ipython",
    "version": 3
   },
   "file_extension": ".py",
   "mimetype": "text/x-python",
   "name": "python",
   "nbconvert_exporter": "python",
   "pygments_lexer": "ipython3",
   "version": "3.6.3"
  }
 },
 "nbformat": 4,
 "nbformat_minor": 2
}
